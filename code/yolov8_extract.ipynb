{
 "cells": [
  {
   "cell_type": "code",
   "execution_count": 4,
   "metadata": {},
   "outputs": [],
   "source": [
    "import cv2\n",
    "\n",
    "video = cv2.VideoCapture(\"../video/istockphoto_02.mp4\")\n",
    "num = 0\n",
    "save_step = 30 # 間隔幀數\n",
    "while True:\n",
    "    ret, frame = video.read()\n",
    "    if not ret:\n",
    "        break\n",
    "    num += 1\n",
    "    if num % save_step == 0:\n",
    "        path = \"./extract_img/istockphoto_02/\" + str(num) + \".jpg\"\n",
    "        cv2.imwrite(path, frame)"
   ]
  }
 ],
 "metadata": {
  "kernelspec": {
   "display_name": "yolov8_py38",
   "language": "python",
   "name": "python3"
  },
  "language_info": {
   "codemirror_mode": {
    "name": "ipython",
    "version": 3
   },
   "file_extension": ".py",
   "mimetype": "text/x-python",
   "name": "python",
   "nbconvert_exporter": "python",
   "pygments_lexer": "ipython3",
   "version": "3.8.19"
  }
 },
 "nbformat": 4,
 "nbformat_minor": 2
}
