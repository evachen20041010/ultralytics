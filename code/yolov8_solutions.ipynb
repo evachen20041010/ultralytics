{
 "cells": [
  {
   "cell_type": "code",
   "execution_count": 3,
   "metadata": {},
   "outputs": [
    {
     "name": "stdout",
     "output_type": "stream",
     "text": [
      "\u001b[31m\u001b[1mrequirements:\u001b[0m Ultralytics requirement ['tkinter'] not found, attempting AutoUpdate...\n",
      "Retry 1/2 failed: Command 'pip install --no-cache-dir \"tkinter\" ' returned non-zero exit status 1.\n",
      "Retry 2/2 failed: Command 'pip install --no-cache-dir \"tkinter\" ' returned non-zero exit status 1.\n",
      "\u001b[31m\u001b[1mrequirements:\u001b[0m  Command 'pip install --no-cache-dir \"tkinter\" ' returned non-zero exit status 1.\n"
     ]
    },
    {
     "data": {
      "text/plain": [
       "<ultralytics.solutions.parking_management.ParkingPtsSelection at 0x1943936e1f0>"
      ]
     },
     "execution_count": 3,
     "metadata": {},
     "output_type": "execute_result"
    }
   ],
   "source": [
    "from ultralytics import solutions\n",
    "\n",
    "solutions.ParkingPtsSelection()"
   ]
  },
  {
   "cell_type": "code",
   "execution_count": null,
   "metadata": {},
   "outputs": [],
   "source": [
    "import cv2\n",
    "import json\n",
    "from ultralytics import solutions\n",
    "\n",
    "polygon_json_path = \"./boxes_json/bounding_boxes.json\"   # 車位邊框JSON\n",
    "video_path = \"../video/istockphoto_01.mp4\"\n",
    "model_path = \"../models/v6.pt\"\n",
    "output_video_path = \"parking_management.avi\"\n",
    "\n",
    "cap = cv2.VideoCapture(video_path)\n",
    "assert cap.isOpened(), \"Error reading video file\"\n",
    "w, h, fps = (int(cap.get(x)) for x in (cv2.CAP_PROP_FRAME_WIDTH, cv2.CAP_PROP_FRAME_HEIGHT, cv2.CAP_PROP_FPS))\n",
    "video_writer = cv2.VideoWriter(output_video_path, cv2.VideoWriter_fourcc(*\"mp4v\"), fps, (w, h))\n",
    "\n",
    "# 初始化停車管理系統\n",
    "management = solutions.ParkingManagement(model_path, margin=1)\n",
    "\n",
    "# 從JSON文件中提取車位的邊界框數據\n",
    "with open(polygon_json_path, 'r') as f:\n",
    "    json_data = json.load(f)\n",
    "\n",
    "while cap.isOpened():\n",
    "    ret, im0 = cap.read()\n",
    "    if not ret:\n",
    "        break\n",
    "\n",
    "    # 使用YOLOv8模型對當前幀進行車輛檢測和跟踪\n",
    "    results = management.model.track(im0, persist=True, show=False)\n",
    "\n",
    "    # 如果檢測到車輛，則提取檢測結果的邊界框和類別\n",
    "    if results[0].boxes.id is not None:\n",
    "        boxes = results[0].boxes.xyxy.cpu().tolist()    # 提取邊界框坐標\n",
    "        clss = results[0].boxes.cls.cpu().tolist()  # 提取車輛類別\n",
    "        management.process_data(json_data, im0, boxes, clss)    # 處理檢測結果並更新停車區域狀態\n",
    "\n",
    "    management.display_frames(im0)  # 在當前幀上顯示檢測結果\n",
    "    video_writer.write(im0) # 將當前幀寫入到輸出視頻文件\n",
    "\n",
    "cap.release()\n",
    "video_writer.release()\n",
    "cv2.destroyAllWindows()"
   ]
  }
 ],
 "metadata": {
  "kernelspec": {
   "display_name": "yolov8_py38_2",
   "language": "python",
   "name": "python3"
  },
  "language_info": {
   "codemirror_mode": {
    "name": "ipython",
    "version": 3
   },
   "file_extension": ".py",
   "mimetype": "text/x-python",
   "name": "python",
   "nbconvert_exporter": "python",
   "pygments_lexer": "ipython3",
   "version": "3.8.19"
  }
 },
 "nbformat": 4,
 "nbformat_minor": 2
}
